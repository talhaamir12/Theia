{
 "cells": [
  {
   "cell_type": "code",
   "execution_count": 1,
   "id": "legislative-dominican",
   "metadata": {},
   "outputs": [],
   "source": [
    "import numpy as np # linear algebra\n",
    "import pandas as pd # data processing, CSV file I/O (e.g. pd.read_csv)"
   ]
  },
  {
   "cell_type": "code",
   "execution_count": 2,
   "id": "vulnerable-malta",
   "metadata": {},
   "outputs": [],
   "source": [
    "filepath = r'C:\\Users\\i9\\Documents\\Theia\\archive\\full_df.csv'"
   ]
  },
  {
   "cell_type": "code",
   "execution_count": 3,
   "id": "collect-gibraltar",
   "metadata": {},
   "outputs": [],
   "source": [
    "df = pd.read_csv(filepath)"
   ]
  },
  {
   "cell_type": "code",
   "execution_count": 4,
   "id": "bearing-shower",
   "metadata": {},
   "outputs": [
    {
     "data": {
      "text/plain": [
       "array([\"['N']\", \"['D']\", \"['O']\", \"['M']\", \"['H']\", \"['C']\", \"['A']\",\n",
       "       \"['G']\"], dtype=object)"
      ]
     },
     "execution_count": 4,
     "metadata": {},
     "output_type": "execute_result"
    }
   ],
   "source": [
    "df.labels.unique()"
   ]
  },
  {
   "cell_type": "code",
   "execution_count": 5,
   "id": "stunning-winner",
   "metadata": {},
   "outputs": [
    {
     "name": "stdout",
     "output_type": "stream",
     "text": [
      "N\n",
      "D\n",
      "O\n",
      "M\n",
      "H\n",
      "C\n",
      "A\n",
      "G\n"
     ]
    }
   ],
   "source": [
    "from pathlib import Path \n",
    "import os\n",
    "import shutil\n",
    "\n",
    "for label in df.labels.unique():\n",
    "    selected = df[df.labels==label]\n",
    "    indices = np.arange(selected.shape[0])\n",
    "    test_size = int(selected.shape[0]*0.1)\n",
    "    np.random.shuffle(indices)\n",
    "    test_indices = indices[:test_size]\n",
    "    train_indices = indices[test_size:]\n",
    "    test_df = selected.iloc[test_indices]\n",
    "    train_df = selected.iloc[train_indices]\n",
    "    label = label[2]\n",
    "    print(label)\n",
    "    if os.path.exists(label):\n",
    "        shutil.rmtree(label)\n",
    "\n",
    "    os.makedirs(f'{label}/test', exist_ok=True)\n",
    "    os.makedirs(f'{label}/train', exist_ok=True)\n",
    "\n",
    "    for idx, row in train_df.iterrows():\n",
    "            shutil.copy(r'C:\\Users\\i9\\Documents\\Theia\\archive\\ODIR-5K\\ODIR-5K\\Training Images/' + row['Left-Fundus'], f'{label}/train')\n",
    "            shutil.copy(r'C:\\Users\\i9\\Documents\\Theia\\archive\\ODIR-5K\\ODIR-5K\\Training Images/' + row['Right-Fundus'], f'{label}/train')\n",
    "    for idx, row in test_df.iterrows():\n",
    "            shutil.copy(r'C:\\Users\\i9\\Documents\\Theia\\archive\\ODIR-5K\\ODIR-5K\\Training Images/' + row['Left-Fundus'], f'{label}/test')\n",
    "            shutil.copy(r'C:\\Users\\i9\\Documents\\Theia\\archive\\ODIR-5K\\ODIR-5K\\Training Images/' + row['Right-Fundus'], f'{label}/test')\n",
    "    "
   ]
  },
  {
   "cell_type": "code",
   "execution_count": null,
   "id": "freelance-edwards",
   "metadata": {},
   "outputs": [],
   "source": []
  }
 ],
 "metadata": {
  "kernelspec": {
   "display_name": "Python 3",
   "language": "python",
   "name": "python3"
  },
  "language_info": {
   "codemirror_mode": {
    "name": "ipython",
    "version": 3
   },
   "file_extension": ".py",
   "mimetype": "text/x-python",
   "name": "python",
   "nbconvert_exporter": "python",
   "pygments_lexer": "ipython3",
   "version": "3.9.1"
  }
 },
 "nbformat": 4,
 "nbformat_minor": 5
}
